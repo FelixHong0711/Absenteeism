{
 "cells": [
  {
   "cell_type": "markdown",
   "metadata": {},
   "source": [
    "# Absenteeism"
   ]
  },
  {
   "cell_type": "markdown",
   "metadata": {},
   "source": [
    "* Data Source: Udemy - Data Science Bootcamp Program 2024\n",
    "* Author: Huu Phuc (Felix) Hong\n",
    "* Last Update: 9 January, 2024"
   ]
  },
  {
   "cell_type": "markdown",
   "metadata": {},
   "source": [
    "### Import Library"
   ]
  },
  {
   "cell_type": "code",
   "execution_count": 1,
   "metadata": {},
   "outputs": [],
   "source": [
    "import pandas as pd\n",
    "import numpy as np\n",
    "import seaborn as sns\n",
    "import matplotlib.pyplot as plt\n",
    "\n",
    "# Library for modelling and scoring performance\n",
    "from sklearn.svm import SVC\n",
    "from sklearn.model_selection import train_test_split\n",
    "from sklearn.model_selection import GridSearchCV, cross_val_score\n",
    "from sklearn.linear_model import LogisticRegression\n",
    "from sklearn.ensemble import RandomForestClassifier\n",
    "from sklearn.neighbors import KNeighborsClassifier\n",
    "from sklearn.metrics import classification_report, confusion_matrix, accuracy_score\n",
    "import tensorflow as tf"
   ]
  },
  {
   "cell_type": "markdown",
   "metadata": {},
   "source": [
    "### Declare Functions"
   ]
  },
  {
   "cell_type": "code",
   "execution_count": 2,
   "metadata": {},
   "outputs": [],
   "source": [
    "# Function declaration for plotting confusion matrix after modelling\n",
    "def plot_confusion_matrix(y,y_predict):\n",
    "    cm = confusion_matrix(y, y_predict)\n",
    "    ax= plt.subplot()\n",
    "    sns.heatmap(cm, annot=True, ax = ax)\n",
    "    ax.set_xlabel('Predicted labels')\n",
    "    ax.set_ylabel('True labels')\n",
    "    ax.set_title('Confusion Matrix'); \n",
    "    ax.xaxis.set_ticklabels(['Not approved', 'Approved']); ax.yaxis.set_ticklabels(['Not approved', 'Approved']) \n",
    "    plt.show() "
   ]
  },
  {
   "cell_type": "markdown",
   "metadata": {},
   "source": [
    "### Model Expected Output"
   ]
  },
  {
   "cell_type": "markdown",
   "metadata": {},
   "source": [
    "The initial target column of the dataset is Absenteeism Time in Hours. However, in reality, the information about employees with excessive absence may be more appropriate. Therefore, the expected outcome of our model will be changed to test if an employee has the intention to be excessively absent or not (1 for excessive absence, 0 otherwise)"
   ]
  },
  {
   "cell_type": "code",
   "execution_count": 3,
   "metadata": {},
   "outputs": [],
   "source": [
    "# Read data\n",
    "df = pd.read_csv(\"Absenteeism_preprocessed.csv\")"
   ]
  },
  {
   "cell_type": "code",
   "execution_count": 4,
   "metadata": {},
   "outputs": [],
   "source": [
    "# Find median of target column, if Absenteeism Time in Hours of an employee is\n",
    "# higher than median of the whole sample, then we will treat it as excessive absence\n",
    "# 1 for excessive absence, 0 otherwise\n",
    "df['Excessive Absenteeism'] = np.where(df['Absenteeism Time in Hours']\n",
    "                                       > df['Absenteeism Time in Hours'].median(), 1, 0)"
   ]
  },
  {
   "cell_type": "code",
   "execution_count": 5,
   "metadata": {},
   "outputs": [],
   "source": [
    "# Drop Absenteeism Time in Hours column after transforming target\n",
    "df.drop(['Absenteeism Time in Hours'], axis=1, inplace=True)"
   ]
  },
  {
   "cell_type": "markdown",
   "metadata": {},
   "source": [
    "We see that 45.6% of the employees in the dataset are excessively absent. Therefore, the data is quite balance and appropriate for modelling."
   ]
  },
  {
   "cell_type": "code",
   "execution_count": 6,
   "metadata": {},
   "outputs": [
    {
     "data": {
      "text/plain": [
       "0.45571428571428574"
      ]
     },
     "execution_count": 6,
     "metadata": {},
     "output_type": "execute_result"
    }
   ],
   "source": [
    "# Test to ensure the data target is balance\n",
    "df['Excessive Absenteeism'].sum()/len(df['Excessive Absenteeism'])"
   ]
  },
  {
   "cell_type": "markdown",
   "metadata": {},
   "source": [
    "### Modelling"
   ]
  },
  {
   "cell_type": "code",
   "execution_count": 7,
   "metadata": {},
   "outputs": [],
   "source": [
    "# Declare dependent & independent variables\n",
    "X = df.drop(['Excessive Absenteeism'], axis=1)\n",
    "y = df['Excessive Absenteeism']"
   ]
  },
  {
   "cell_type": "code",
   "execution_count": 8,
   "metadata": {},
   "outputs": [],
   "source": [
    "# Build CustomScaler based on StandardScaler for scale chosen columns only\n",
    "\n",
    "from sklearn.base import BaseEstimator, TransformerMixin\n",
    "from sklearn.preprocessing import StandardScaler\n",
    "\n",
    "# create the Custom Scaler class\n",
    "\n",
    "class CustomScaler(BaseEstimator,TransformerMixin): \n",
    "    \n",
    "    # init or what information we need to declare a CustomScaler object\n",
    "    # and what is calculated/declared as we do\n",
    "    \n",
    "    def __init__(self,columns,copy=True,with_mean=True,with_std=True):\n",
    "        \n",
    "        # scaler is nothing but a Standard Scaler object\n",
    "        self.copy = copy\n",
    "        self.with_mean = with_mean\n",
    "        self.with_std = with_std\n",
    "        self.scaler = StandardScaler(copy=copy,with_mean=with_mean,with_std=with_std)\n",
    "        # with some columns 'twist'\n",
    "        self.columns = columns\n",
    "        self.mean_ = None\n",
    "        self.var_ = None\n",
    "        \n",
    "    \n",
    "    # the fit method, which, again based on StandardScale\n",
    "    \n",
    "    def fit(self, X, y=None):\n",
    "        self.scaler.fit(X[self.columns], y)\n",
    "        self.mean_ = np.mean(X[self.columns])\n",
    "        self.var_ = np.var(X[self.columns])\n",
    "        return self\n",
    "    \n",
    "    # the transform method which does the actual scaling\n",
    "\n",
    "    def transform(self, X, y=None, copy=None):\n",
    "        \n",
    "        # record the initial order of the columns\n",
    "        init_col_order = X.columns\n",
    "        \n",
    "        # scale all features that you chose when creating the instance of the class\n",
    "        X_scaled = pd.DataFrame(self.scaler.transform(X[self.columns]), columns=self.columns)\n",
    "        \n",
    "        # declare a variable containing all information that was not scaled\n",
    "        X_not_scaled = X.loc[:,~X.columns.isin(self.columns)]\n",
    "        \n",
    "        # return a data frame which contains all scaled features and all 'not scaled' features\n",
    "        # use the original order (that you recorded in the beginning)\n",
    "        return np.array(pd.concat([X_not_scaled, X_scaled], axis=1)[init_col_order])"
   ]
  },
  {
   "cell_type": "code",
   "execution_count": 9,
   "metadata": {},
   "outputs": [],
   "source": [
    "# We need to make custom scaler because we want to exclude created dummy variables\n",
    "# so that we can interpret the results of the model\n",
    "columns_to_omit = ['Reason_1', 'Reason_2', 'Reason_3', 'Reason_4','Education']"
   ]
  },
  {
   "cell_type": "code",
   "execution_count": 10,
   "metadata": {},
   "outputs": [],
   "source": [
    "# Defind columns to scale\n",
    "columns_to_scale = [x for x in X.columns.values if x not in columns_to_omit]"
   ]
  },
  {
   "cell_type": "code",
   "execution_count": 11,
   "metadata": {},
   "outputs": [
    {
     "name": "stderr",
     "output_type": "stream",
     "text": [
      "/Users/honghuuphuc/anaconda3/envs/myenv/lib/python3.11/site-packages/numpy/core/fromnumeric.py:3462: FutureWarning: In a future version, DataFrame.mean(axis=None) will return a scalar mean over the entire DataFrame. To retain the old behavior, use 'frame.mean(axis=0)' or just 'frame.mean()'\n",
      "  return mean(axis=axis, dtype=dtype, out=out, **kwargs)\n"
     ]
    }
   ],
   "source": [
    "# Scaling\n",
    "absenteeism_scaler = CustomScaler(columns_to_scale)\n",
    "absenteeism_scaler.fit(X)\n",
    "X = absenteeism_scaler.transform(X)"
   ]
  },
  {
   "cell_type": "code",
   "execution_count": 12,
   "metadata": {},
   "outputs": [],
   "source": [
    "# Split data into train-test \n",
    "X_train, X_test, y_train, y_test = train_test_split(X, y, test_size=0.2, random_state=42)"
   ]
  },
  {
   "cell_type": "markdown",
   "metadata": {},
   "source": [
    "#### Logistic Regression"
   ]
  },
  {
   "cell_type": "code",
   "execution_count": 13,
   "metadata": {},
   "outputs": [
    {
     "name": "stdout",
     "output_type": "stream",
     "text": [
      "Best parameters:  {'C': 1, 'penalty': 'l2', 'solver': 'lbfgs'}\n",
      "Cross-Validation Scores: [0.79464286 0.76785714 0.70535714 0.69642857 0.71428571]\n"
     ]
    }
   ],
   "source": [
    "# Create parameters for GridSearchCV\n",
    "parameters ={\"C\":[0.01,0.1,1],'penalty':['l2'], 'solver':['lbfgs']}\n",
    "\n",
    "# Create the LogisticRegression\n",
    "lr=LogisticRegression()\n",
    "\n",
    "# Create the GridSearchCV\n",
    "logreg_cv = GridSearchCV(lr, parameters, cv=10)\n",
    "\n",
    "# Fit GridSearchCV to find the best hyperparameters\n",
    "logreg_cv.fit(X_train, y_train)\n",
    "print(\"Best parameters: \", logreg_cv.best_params_)\n",
    "\n",
    "# Cross validation for avoiding overfitting\n",
    "cross_val_scores = cross_val_score(logreg_cv, X_train, y_train, cv=5, scoring='accuracy')\n",
    "print(\"Cross-Validation Scores:\", cross_val_scores)\n",
    "\n",
    "# Predict target of test set\n",
    "yhat=logreg_cv.predict(X_test)"
   ]
  },
  {
   "cell_type": "code",
   "execution_count": 14,
   "metadata": {},
   "outputs": [],
   "source": [
    "accuracy_lr_cv = accuracy_score(y_test, yhat)"
   ]
  },
  {
   "cell_type": "code",
   "execution_count": 15,
   "metadata": {},
   "outputs": [
    {
     "data": {
      "text/plain": [
       "array([[67, 15],\n",
       "       [16, 42]])"
      ]
     },
     "execution_count": 15,
     "metadata": {},
     "output_type": "execute_result"
    }
   ],
   "source": [
    "confusion_matrix(y_test, yhat)"
   ]
  },
  {
   "cell_type": "code",
   "execution_count": 16,
   "metadata": {},
   "outputs": [
    {
     "name": "stdout",
     "output_type": "stream",
     "text": [
      "              precision    recall  f1-score   support\n",
      "\n",
      "           0       0.81      0.82      0.81        82\n",
      "           1       0.74      0.72      0.73        58\n",
      "\n",
      "    accuracy                           0.78       140\n",
      "   macro avg       0.77      0.77      0.77       140\n",
      "weighted avg       0.78      0.78      0.78       140\n",
      "\n"
     ]
    }
   ],
   "source": [
    "print(classification_report(y_test, yhat))"
   ]
  },
  {
   "cell_type": "markdown",
   "metadata": {},
   "source": [
    "#### K-Nearest Neighbors"
   ]
  },
  {
   "cell_type": "code",
   "execution_count": 17,
   "metadata": {},
   "outputs": [
    {
     "name": "stdout",
     "output_type": "stream",
     "text": [
      "Best parameters:  {'algorithm': 'brute', 'n_neighbors': 5, 'p': 1}\n",
      "Cross-Validation Scores: [0.70535714 0.73214286 0.65178571 0.6875     0.69642857]\n"
     ]
    }
   ],
   "source": [
    "# Create parameters for GridSearchCV\n",
    "parameters = {'n_neighbors': [1, 2, 3, 4, 5, 6, 7, 8, 9, 10],\n",
    "              'algorithm': ['auto', 'ball_tree', 'kd_tree', 'brute'],\n",
    "              'p': [1, 2]}\n",
    "\n",
    "# Create the KNeighborsClassifier\n",
    "knn = KNeighborsClassifier()\n",
    "\n",
    "# Create GridSearchCV\n",
    "knn_cv = GridSearchCV(estimator=knn, param_grid=parameters, cv=5, error_score='raise')\n",
    "\n",
    "# Fit GridSearchCV to find the best hyperparameters\n",
    "knn_cv.fit(X_train, y_train)\n",
    "print(\"Best parameters: \", knn_cv.best_params_)\n",
    "\n",
    "# Cross validation for avoiding overfitting\n",
    "cross_val_scores = cross_val_score(knn_cv, X_train, y_train, cv=5, scoring='accuracy')\n",
    "print(\"Cross-Validation Scores:\", cross_val_scores)\n",
    "\n",
    "# Predict target of test set\n",
    "yhat=knn_cv.predict(X_test)"
   ]
  },
  {
   "cell_type": "code",
   "execution_count": 18,
   "metadata": {},
   "outputs": [],
   "source": [
    "accuracy_knn_cv = accuracy_score(y_test, yhat)"
   ]
  },
  {
   "cell_type": "code",
   "execution_count": 19,
   "metadata": {},
   "outputs": [
    {
     "data": {
      "image/png": "[encoded data removed]",
      "text/plain": [
       "<Figure size 640x480 with 2 Axes>"
      ]
     },
     "metadata": {},
     "output_type": "display_data"
    }
   ],
   "source": [
    "plot_confusion_matrix(y_test, yhat)"
   ]
  },
  {
   "cell_type": "code",
   "execution_count": 20,
   "metadata": {},
   "outputs": [
    {
     "name": "stdout",
     "output_type": "stream",
     "text": [
      "              precision    recall  f1-score   support\n",
      "\n",
      "           0       0.74      0.77      0.75        82\n",
      "           1       0.65      0.62      0.64        58\n",
      "\n",
      "    accuracy                           0.71       140\n",
      "   macro avg       0.70      0.69      0.70       140\n",
      "weighted avg       0.71      0.71      0.71       140\n",
      "\n"
     ]
    }
   ],
   "source": [
    "print(classification_report(y_test, yhat))"
   ]
  },
  {
   "cell_type": "markdown",
   "metadata": {},
   "source": [
    "#### Random Forest"
   ]
  },
  {
   "cell_type": "code",
   "execution_count": 21,
   "metadata": {},
   "outputs": [],
   "source": [
    "X_train, X_test, y_train, y_test = train_test_split(X, y, test_size=0.2, random_state=42, stratify = y)"
   ]
  },
  {
   "cell_type": "code",
   "execution_count": 22,
   "metadata": {},
   "outputs": [
    {
     "name": "stdout",
     "output_type": "stream",
     "text": [
      "Best parameters:  {'max_depth': 10, 'max_features': 'sqrt', 'n_estimators': 200}\n",
      "Cross-Validation Scores: [0.75       0.83035714 0.76785714 0.74107143 0.76785714]\n"
     ]
    }
   ],
   "source": [
    "# Create parameters for GridSearchCV\n",
    "parameters = {\n",
    "    'n_estimators': [10, 50, 100, 200],\n",
    "    'max_depth': [10, 20, 30],\n",
    "    'max_features': ['sqrt', 'log2']\n",
    "}\n",
    "\n",
    "# Create the RandomForestClassifier\n",
    "rf_classifier = RandomForestClassifier(random_state = 42, class_weight = 'balanced')\n",
    "\n",
    "# Create GridSearchCV\n",
    "rf_classifier_cv = GridSearchCV(estimator=rf_classifier, param_grid=parameters, cv=5, error_score='raise', scoring='accuracy')\n",
    "\n",
    "# Fit the GridSearchCV to find the best hyperparameters\n",
    "rf_classifier_cv.fit(X_train, y_train)\n",
    "print(\"Best parameters: \", rf_classifier_cv.best_params_)\n",
    "\n",
    "# Cross validation for avoiding overfitting\n",
    "cross_val_scores = cross_val_score(rf_classifier_cv, X_train, y_train, cv=5, scoring='accuracy')\n",
    "print(\"Cross-Validation Scores:\", cross_val_scores)\n",
    "\n",
    "# Predict target in test data \n",
    "yhat=rf_classifier_cv.predict(X_test)"
   ]
  },
  {
   "cell_type": "code",
   "execution_count": 23,
   "metadata": {},
   "outputs": [],
   "source": [
    "accuracy_rf_cv = accuracy_score(y_test, yhat)"
   ]
  },
  {
   "cell_type": "code",
   "execution_count": 24,
   "metadata": {},
   "outputs": [
    {
     "data": {
      "image/png": "[encoded data removed]",
      "text/plain": [
       "<Figure size 640x480 with 2 Axes>"
      ]
     },
     "metadata": {},
     "output_type": "display_data"
    }
   ],
   "source": [
    "plot_confusion_matrix(y_test, yhat)"
   ]
  },
  {
   "cell_type": "code",
   "execution_count": 25,
   "metadata": {},
   "outputs": [
    {
     "name": "stdout",
     "output_type": "stream",
     "text": [
      "              precision    recall  f1-score   support\n",
      "\n",
      "           0       0.80      0.68      0.74        76\n",
      "           1       0.68      0.80      0.73        64\n",
      "\n",
      "    accuracy                           0.74       140\n",
      "   macro avg       0.74      0.74      0.74       140\n",
      "weighted avg       0.75      0.74      0.74       140\n",
      "\n"
     ]
    }
   ],
   "source": [
    "print(classification_report(y_test, yhat))"
   ]
  },
  {
   "cell_type": "markdown",
   "metadata": {},
   "source": [
    "#### Support Vector Machine"
   ]
  },
  {
   "cell_type": "code",
   "execution_count": 26,
   "metadata": {},
   "outputs": [
    {
     "name": "stdout",
     "output_type": "stream",
     "text": [
      "Best parameters for SVM:  {'C': 10, 'gamma': 0.1, 'kernel': 'linear'}\n",
      "Cross-Validation Scores for SVM: [0.73214286 0.76785714 0.72321429 0.75892857 0.74107143]\n"
     ]
    }
   ],
   "source": [
    "# Define the parameter grid for the SVM\n",
    "svm_parameters = {\n",
    "    'C': [0.1, 1, 10],\n",
    "    'gamma': [0.1, 0.01, 0.001],\n",
    "    'kernel': ['linear', 'rbf']\n",
    "}\n",
    "\n",
    "# Create the SVM classifier\n",
    "svm_classifier = SVC(random_state=42, class_weight='balanced')\n",
    "\n",
    "# Create GridSearchCV for SVM with cross-validation\n",
    "svm_cv = GridSearchCV(estimator=svm_classifier, param_grid=svm_parameters, cv=5, error_score='raise', scoring='accuracy')\n",
    "\n",
    "# Fit the GridSearchCV to find the best hyperparameters for SVM\n",
    "svm_cv.fit(X_train, y_train)\n",
    "print(\"Best parameters for SVM: \", svm_cv.best_params_)\n",
    "\n",
    "# Cross-validation scores\n",
    "cross_val_scores_svm = cross_val_score(svm_cv, X_train, y_train, cv=5, scoring='accuracy')\n",
    "print(\"Cross-Validation Scores for SVM:\", cross_val_scores_svm)\n",
    "\n",
    "# Predict target in test data using the SVM classifier with best parameters\n",
    "yhat = svm_cv.best_estimator_.predict(X_test)"
   ]
  },
  {
   "cell_type": "code",
   "execution_count": 27,
   "metadata": {},
   "outputs": [],
   "source": [
    "accuracy_svm_cv = accuracy_score(y_test, yhat)"
   ]
  },
  {
   "cell_type": "code",
   "execution_count": 28,
   "metadata": {},
   "outputs": [
    {
     "data": {
      "image/png": "[encoded data removed]",
      "text/plain": [
       "<Figure size 640x480 with 2 Axes>"
      ]
     },
     "metadata": {},
     "output_type": "display_data"
    }
   ],
   "source": [
    "plot_confusion_matrix(y_test, yhat)"
   ]
  },
  {
   "cell_type": "code",
   "execution_count": 29,
   "metadata": {},
   "outputs": [
    {
     "name": "stdout",
     "output_type": "stream",
     "text": [
      "              precision    recall  f1-score   support\n",
      "\n",
      "           0       0.80      0.68      0.74        76\n",
      "           1       0.68      0.80      0.73        64\n",
      "\n",
      "    accuracy                           0.74       140\n",
      "   macro avg       0.74      0.74      0.74       140\n",
      "weighted avg       0.75      0.74      0.74       140\n",
      "\n"
     ]
    }
   ],
   "source": [
    "print(classification_report(y_test, yhat))"
   ]
  },
  {
   "cell_type": "markdown",
   "metadata": {},
   "source": [
    "#### TensorFlow"
   ]
  },
  {
   "cell_type": "code",
   "execution_count": 30,
   "metadata": {},
   "outputs": [],
   "source": [
    "X_train, X_test, y_train, y_test = train_test_split(X, y, test_size=0.1, random_state=42)"
   ]
  },
  {
   "cell_type": "code",
   "execution_count": 31,
   "metadata": {},
   "outputs": [],
   "source": [
    "# Split 10% of X_train and y_train for validation\n",
    "X_train, validation_inputs, y_train, validation_targets = train_test_split(\n",
    "    X_train, y_train, test_size=0.1, random_state=42)"
   ]
  },
  {
   "cell_type": "code",
   "execution_count": 32,
   "metadata": {},
   "outputs": [
    {
     "name": "stdout",
     "output_type": "stream",
     "text": [
      "Epoch 1/100\n",
      "6/6 - 0s - loss: 0.6854 - accuracy: 0.5838 - val_loss: 0.6717 - val_accuracy: 0.6508 - 496ms/epoch - 83ms/step\n",
      "Epoch 2/100\n",
      "6/6 - 0s - loss: 0.6569 - accuracy: 0.6737 - val_loss: 0.6581 - val_accuracy: 0.6508 - 20ms/epoch - 3ms/step\n",
      "Epoch 3/100\n",
      "6/6 - 0s - loss: 0.6320 - accuracy: 0.6861 - val_loss: 0.6470 - val_accuracy: 0.7143 - 18ms/epoch - 3ms/step\n",
      "Epoch 4/100\n",
      "6/6 - 0s - loss: 0.6091 - accuracy: 0.7037 - val_loss: 0.6431 - val_accuracy: 0.6190 - 17ms/epoch - 3ms/step\n",
      "Epoch 5/100\n",
      "6/6 - 0s - loss: 0.5833 - accuracy: 0.7390 - val_loss: 0.6288 - val_accuracy: 0.6508 - 16ms/epoch - 3ms/step\n",
      "Epoch 6/100\n",
      "6/6 - 0s - loss: 0.5559 - accuracy: 0.7637 - val_loss: 0.6173 - val_accuracy: 0.6508 - 17ms/epoch - 3ms/step\n",
      "Epoch 7/100\n",
      "6/6 - 0s - loss: 0.5304 - accuracy: 0.7795 - val_loss: 0.6215 - val_accuracy: 0.6508 - 17ms/epoch - 3ms/step\n",
      "Epoch 8/100\n",
      "6/6 - 0s - loss: 0.5059 - accuracy: 0.7866 - val_loss: 0.6313 - val_accuracy: 0.6349 - 17ms/epoch - 3ms/step\n",
      "3/3 [==============================] - 0s 912us/step - loss: 0.5551 - accuracy: 0.7286\n",
      "Test Accuracy: 0.7285714149475098\n"
     ]
    }
   ],
   "source": [
    "tf.config.experimental.set_visible_devices([], 'GPU')\n",
    "# Define the neural network architecture\n",
    "model = tf.keras.Sequential([\n",
    "    tf.keras.layers.Dense(128, activation='relu'),\n",
    "    tf.keras.layers.Dense(64, activation='relu'),\n",
    "    tf.keras.layers.Dense(32, activation='relu'),\n",
    "    tf.keras.layers.Dense(16, activation='relu'),\n",
    "    tf.keras.layers.Dense(2, activation='softmax')\n",
    "])\n",
    "\n",
    "# Compile the model\n",
    "model.compile(optimizer='adam', loss='sparse_categorical_crossentropy', metrics=['accuracy'])\n",
    "\n",
    "# set the batch size\n",
    "batch_size = 100\n",
    "\n",
    "# set a maximum number of training epochs\n",
    "max_epochs = 100\n",
    "\n",
    "# set an early stopping mechanism\n",
    "# let's set patience=2, to be a bit tolerant against random validation loss increases\n",
    "early_stopping = tf.keras.callbacks.EarlyStopping(patience=2)\n",
    "\n",
    "# fit the model\n",
    "# note that this time the train, validation and test data are not iterable\n",
    "model.fit(X_train, # train inputs\n",
    "          y_train, # train targets\n",
    "          batch_size=batch_size, # batch size\n",
    "          epochs=max_epochs, # epochs that we will train for (assuming early stopping doesn't kick in)\n",
    "          # callbacks are functions called by a task when a task is completed\n",
    "          # task here is to check if val_loss is increasing\n",
    "          callbacks=[early_stopping], # early stopping\n",
    "          validation_data=(validation_inputs, validation_targets), # validation data\n",
    "          verbose = 2 # making sure we get enough information about the training process\n",
    "          )  \n",
    "\n",
    "# Evaluate on test data\n",
    "test_loss, test_accuracy = model.evaluate(X_test, y_test)\n",
    "print(f'Test Accuracy: {test_accuracy}')"
   ]
  },
  {
   "cell_type": "code",
   "execution_count": 34,
   "metadata": {},
   "outputs": [],
   "source": [
    "accuracy_tf = test_accuracy"
   ]
  },
  {
   "cell_type": "code",
   "execution_count": 40,
   "metadata": {},
   "outputs": [
    {
     "data": {
      "text/html": [
       "<div>\n",
       "<style scoped>\n",
       "    .dataframe tbody tr th:only-of-type {\n",
       "        vertical-align: middle;\n",
       "    }\n",
       "\n",
       "    .dataframe tbody tr th {\n",
       "        vertical-align: top;\n",
       "    }\n",
       "\n",
       "    .dataframe thead th {\n",
       "        text-align: right;\n",
       "    }\n",
       "</style>\n",
       "<table border=\"1\" class=\"dataframe\">\n",
       "  <thead>\n",
       "    <tr style=\"text-align: right;\">\n",
       "      <th></th>\n",
       "      <th>Model</th>\n",
       "      <th>Accuracy (%)</th>\n",
       "    </tr>\n",
       "  </thead>\n",
       "  <tbody>\n",
       "    <tr>\n",
       "      <th>1</th>\n",
       "      <td>LR</td>\n",
       "      <td>78.0</td>\n",
       "    </tr>\n",
       "    <tr>\n",
       "      <th>0</th>\n",
       "      <td>RF Classifier</td>\n",
       "      <td>74.0</td>\n",
       "    </tr>\n",
       "    <tr>\n",
       "      <th>3</th>\n",
       "      <td>SVM</td>\n",
       "      <td>74.0</td>\n",
       "    </tr>\n",
       "    <tr>\n",
       "      <th>4</th>\n",
       "      <td>TensorFlow</td>\n",
       "      <td>73.0</td>\n",
       "    </tr>\n",
       "    <tr>\n",
       "      <th>2</th>\n",
       "      <td>KNN</td>\n",
       "      <td>71.0</td>\n",
       "    </tr>\n",
       "  </tbody>\n",
       "</table>\n",
       "</div>"
      ],
      "text/plain": [
       "           Model  Accuracy (%)\n",
       "1             LR          78.0\n",
       "0  RF Classifier          74.0\n",
       "3            SVM          74.0\n",
       "4     TensorFlow          73.0\n",
       "2            KNN          71.0"
      ]
     },
     "execution_count": 40,
     "metadata": {},
     "output_type": "execute_result"
    }
   ],
   "source": [
    "report = pd.DataFrame({\"Model\":[\"RF Classifier\", \"LR\", \"KNN\", \"SVM\", \"TensorFlow\"],\n",
    "                       \"Accuracy (%)\": [round(accuracy_rf_cv,2), round(accuracy_lr_cv,2), \n",
    "                                        round(accuracy_knn_cv,2), round(accuracy_svm_cv,2),\n",
    "                                        round(accuracy_tf,2)]})\n",
    "report[\"Accuracy (%)\"] = report[\"Accuracy (%)\"]*100\n",
    "report.sort_values([\"Accuracy (%)\"], ascending=False)"
   ]
  },
  {
   "cell_type": "markdown",
   "metadata": {},
   "source": [
    "## From the report above, logistic regression will be the best fit model for predicting absenteeism based on our dataset"
   ]
  }
 ],
 "metadata": {
  "kernelspec": {
   "display_name": "base",
   "language": "python",
   "name": "python3"
  },
  "language_info": {
   "codemirror_mode": {
    "name": "ipython",
    "version": 3
   },
   "file_extension": ".py",
   "mimetype": "text/x-python",
   "name": "python",
   "nbconvert_exporter": "python",
   "pygments_lexer": "ipython3",
   "version": "3.11.4"
  }
 },
 "nbformat": 4,
 "nbformat_minor": 2
}
